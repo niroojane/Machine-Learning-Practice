{
 "cells": [
  {
   "cell_type": "code",
   "execution_count": 44,
   "id": "bf226634-03c3-46d5-84f1-425975e4f55f",
   "metadata": {},
   "outputs": [],
   "source": [
    "import numpy as np\n",
    "import pandas as pd\n"
   ]
  },
  {
   "cell_type": "code",
   "execution_count": 45,
   "id": "ef2175e5-84ef-473c-bef7-c251afbc855c",
   "metadata": {},
   "outputs": [],
   "source": [
    "dataset=pd.read_csv('titanic.csv')\n",
    "dataset=dataset.set_index('PassengerId')\n",
    "\n",
    "Y=list(map(lambda values : \"yes\" if values==1 else \"no\",dataset['Survived'].values))"
   ]
  },
  {
   "cell_type": "code",
   "execution_count": 40,
   "id": "ec9d4f44-68e7-467c-86ae-12ca4808eb76",
   "metadata": {},
   "outputs": [],
   "source": [
    "X=dataset[['Embarked','Sex','Pclass']].values"
   ]
  },
  {
   "cell_type": "code",
   "execution_count": 41,
   "id": "b6d10c6b-979c-4003-9d5c-44d3bac31d4d",
   "metadata": {},
   "outputs": [],
   "source": [
    "X_train=X[:600]\n",
    "Y_train=Y[:600]\n",
    "\n",
    "X_test=X[600:]\n",
    "Y_test=Y[600:]"
   ]
  },
  {
   "cell_type": "code",
   "execution_count": 49,
   "id": "321ff90c-aeec-4a86-be4b-03c7cc7a5fc7",
   "metadata": {},
   "outputs": [],
   "source": [
    "class NaiveBayes:\n",
    "    \n",
    "    def __init__(self,X,Y):\n",
    "        \n",
    "        self.X=X\n",
    "        self.Y=Y\n",
    "        \n",
    "        self.N=len(X)\n",
    "        self.dim=len(X[0])\n",
    "        \n",
    "        self.attribs=[[] for _ in range(self.dim)]\n",
    "        self.output_dom={}\n",
    "        \n",
    "        self.data=[]\n",
    "        \n",
    "        \n",
    "        for i in range(self.N):\n",
    "            for j in range(self.dim):\n",
    "            \n",
    "                if X[i][j] not in self.attribs[j]:\n",
    "                    \n",
    "                    self.attribs[j].append([X[i][j]])\n",
    "                    \n",
    "            if not self.Y[i] in self.output_dom.keys():\n",
    "                \n",
    "                self.output_dom[self.Y[i]]=1\n",
    "                \n",
    "            else:\n",
    "                self.output_dom[self.Y[i]]+=1\n",
    "                \n",
    "            self.data.append([self.X[i],self.Y[i]])\n",
    "                \n",
    "                \n",
    "    def classify(self,entry):\n",
    "\n",
    "        solve =None\n",
    "        max_arg=-1\n",
    "\n",
    "        for y in self.output_dom.keys():\n",
    "\n",
    "            prob=self.output_dom[y]/self.N\n",
    "\n",
    "            for i in range(self.dim):\n",
    "\n",
    "                cases=[x for x in self.data if x[0][i]==entry[i] and x[1]==y]\n",
    "                n=len(cases)\n",
    "\n",
    "                prob*=n/self.N\n",
    "\n",
    "\n",
    "                if prob>max_arg:\n",
    "\n",
    "                    max_arg=prob\n",
    "                    solve=y\n",
    "\n",
    "\n",
    "        return solve\n",
    "\n",
    "                    \n",
    "                \n",
    "                \n",
    "                \n",
    "                    "
   ]
  },
  {
   "cell_type": "code",
   "execution_count": 50,
   "id": "ae66bce3-c0b2-4cc2-81e8-c59ed59f957a",
   "metadata": {},
   "outputs": [],
   "source": [
    "nbc=NaiveBayes(X_train,Y_train)"
   ]
  },
  {
   "cell_type": "code",
   "execution_count": 62,
   "id": "71e62e5d-9298-4515-aa49-4173f9fe69dc",
   "metadata": {},
   "outputs": [
    {
     "data": {
      "text/plain": [
       "0.6357388316151202"
      ]
     },
     "execution_count": 62,
     "metadata": {},
     "output_type": "execute_result"
    }
   ],
   "source": [
    "cases=len(X_test)\n",
    "good=0\n",
    "bad=0\n",
    "\n",
    "for i in range(len(X_test)):\n",
    "    if nbc.classify(X_test[i])==Y_test[i]:\n",
    "        good+=1\n",
    "        \n",
    "    else:\n",
    "        \n",
    "        bad+=1\n",
    "        \n",
    "good/cases"
   ]
  },
  {
   "cell_type": "code",
   "execution_count": null,
   "id": "2dd1a5e0-49a0-4ac2-8ca0-f4b293ba64a7",
   "metadata": {},
   "outputs": [],
   "source": []
  }
 ],
 "metadata": {
  "kernelspec": {
   "display_name": "Python 3 (ipykernel)",
   "language": "python",
   "name": "python3"
  },
  "language_info": {
   "codemirror_mode": {
    "name": "ipython",
    "version": 3
   },
   "file_extension": ".py",
   "mimetype": "text/x-python",
   "name": "python",
   "nbconvert_exporter": "python",
   "pygments_lexer": "ipython3",
   "version": "3.9.12"
  }
 },
 "nbformat": 4,
 "nbformat_minor": 5
}

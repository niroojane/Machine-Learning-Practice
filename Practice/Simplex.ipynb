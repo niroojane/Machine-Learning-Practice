{
 "cells": [
  {
   "cell_type": "code",
   "execution_count": 2,
   "id": "33698a54-e82d-4d10-a156-589de4841591",
   "metadata": {},
   "outputs": [],
   "source": [
    "import numpy as np"
   ]
  },
  {
   "cell_type": "code",
   "execution_count": 51,
   "id": "34756b68-08c4-4007-a48f-0797326c2471",
   "metadata": {},
   "outputs": [],
   "source": [
    "func = np.array([3, 5, 4, 0, 0, 0],dtype=float)\n",
    "\n",
    "# Constraints matrix (A | I), where I is the identity matrix for slack variables\n",
    "constraint = np.array([[2, 3, 0, 1, 0, 0],\n",
    "                       [0, 2, 5, 0, 1, 0],\n",
    "                       [3, 2, 4, 0, 0, 1]], dtype=float)\n",
    "\n",
    "Xb = np.array([8, 10, 15], dtype=float)"
   ]
  },
  {
   "cell_type": "code",
   "execution_count": 52,
   "id": "364f6ff7-cf5d-4d41-9186-d6d948fdce44",
   "metadata": {},
   "outputs": [],
   "source": [
    "Cj=np.zeros_like(func)\n",
    "Cb=np.zeros_like(Xb)\n"
   ]
  },
  {
   "cell_type": "code",
   "execution_count": 53,
   "id": "1a74f5a0-92ba-43c5-889d-6909c3519dbf",
   "metadata": {},
   "outputs": [],
   "source": [
    "Zj=np.dot(Cb,constraint)\n",
    "\n",
    "Cj=func-Zj"
   ]
  },
  {
   "cell_type": "code",
   "execution_count": 54,
   "id": "44533e97-91bd-4ba5-9759-10114894724e",
   "metadata": {},
   "outputs": [
    {
     "name": "stderr",
     "output_type": "stream",
     "text": [
      "C:\\Users\\niroo\\AppData\\Local\\Temp\\ipykernel_59656\\248721164.py:4: RuntimeWarning: divide by zero encountered in true_divide\n",
      "  ratios=Xb/constraint[:,entering]\n"
     ]
    }
   ],
   "source": [
    "while np.any(Cj>0):\n",
    "    \n",
    "    entering=np.argmax(Cj)\n",
    "    ratios=Xb/constraint[:,entering]\n",
    "    valid_ratios = np.where(constraint[:, entering] > 0, ratios, np.inf)\n",
    "    leaving=np.argmin(valid_ratios)\n",
    "    pivot=constraint[leaving,entering]\n",
    "    constraint[leaving,:]=constraint[leaving,:]/pivot\n",
    "    Xb[leaving]=Xb[leaving]/pivot\n",
    "\n",
    "\n",
    "    for i in range(constraint.shape[0]):\n",
    "        \n",
    "        if i!=leaving:\n",
    "            \n",
    "            factors=constraint[i,entering]\n",
    "            constraint[i,:]=constraint[i]-factors*constraint[leaving,:]\n",
    "            Xb[i]=Xb[i]-factors*Xb[leaving]\n",
    "            \n",
    "    Cb[leaving]=func[entering]\n",
    "        \n",
    "    Zj=np.dot(Cb,constraint)\n",
    "    Cj=func-Zj\n",
    "            \n",
    "            \n",
    "    "
   ]
  },
  {
   "cell_type": "code",
   "execution_count": 62,
   "id": "d9e4eb1c-7977-4cc6-8175-8465c56d5a54",
   "metadata": {},
   "outputs": [
    {
     "data": {
      "text/plain": [
       "(array([1.2195122 , 1.51219512, 2.17073171]), 18.65853658536585)"
      ]
     },
     "execution_count": 62,
     "metadata": {},
     "output_type": "execute_result"
    }
   ],
   "source": [
    "sol=Xb\n",
    "value=np.dot(Cb,Xb)\n",
    "\n",
    "sol,value"
   ]
  }
 ],
 "metadata": {
  "kernelspec": {
   "display_name": "Python 3 (ipykernel)",
   "language": "python",
   "name": "python3"
  },
  "language_info": {
   "codemirror_mode": {
    "name": "ipython",
    "version": 3
   },
   "file_extension": ".py",
   "mimetype": "text/x-python",
   "name": "python",
   "nbconvert_exporter": "python",
   "pygments_lexer": "ipython3",
   "version": "3.9.12"
  }
 },
 "nbformat": 4,
 "nbformat_minor": 5
}

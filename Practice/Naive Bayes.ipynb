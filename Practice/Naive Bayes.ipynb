{
 "cells": [
  {
   "cell_type": "code",
   "execution_count": 13,
   "id": "3b60d172-b7bd-4632-88df-4e5b54217c12",
   "metadata": {},
   "outputs": [],
   "source": [
    "import numpy as np\n",
    "from collections import Counter\n",
    "import matplotlib.pyplot as plt"
   ]
  },
  {
   "cell_type": "code",
   "execution_count": 14,
   "id": "66c9daf1-2415-49b8-a2b6-79cec21a4a7a",
   "metadata": {},
   "outputs": [],
   "source": [
    "genders=[\"male\",\"female\"]\n",
    "persons=[]\n",
    "\n",
    "with open('data person.txt') as fh:\n",
    "    for line in fh:\n",
    "        persons.append(line.strip().split())\n",
    "    "
   ]
  },
  {
   "cell_type": "code",
   "execution_count": 15,
   "id": "14f1ae3f-fddf-4a2c-8787-5c69038887ab",
   "metadata": {},
   "outputs": [],
   "source": [
    "first_names={}\n",
    "heights={}\n",
    "\n",
    "for gender in genders:\n",
    "    first_names[gender]=[x[0] for x in persons if x[4]==gender]\n",
    "    heights[gender]=[x[2] for x in persons if x[4]==gender]\n",
    "    heights[gender]=np.array(heights[gender],np.int32)"
   ]
  },
  {
   "cell_type": "code",
   "execution_count": 16,
   "id": "9aafadc5-7532-4037-8597-a1f3c656affb",
   "metadata": {},
   "outputs": [
    {
     "data": {
      "text/plain": [
       "{'male': array([184, 175, 187, 192, 204, 180, 184, 174, 177, 200, 193, 189, 188,\n",
       "        187, 187, 190, 180, 155, 201, 171, 163, 191, 175, 170, 178, 191,\n",
       "        176, 168, 169, 173, 180, 212, 189, 174, 167, 193, 164, 171, 165,\n",
       "        198, 185, 175, 195, 164, 187, 192, 175, 190, 164, 161]),\n",
       " 'female': array([149, 174, 183, 138, 145, 161, 179, 162, 148, 196, 163, 159, 150,\n",
       "        170, 169, 167, 168, 170, 167, 152, 155, 151, 166, 165, 158, 152,\n",
       "        159, 163, 174, 131, 154, 159, 159, 177, 180, 164, 163, 161, 183,\n",
       "        170, 167, 166, 180, 161, 170, 172, 168, 156, 167, 167])}"
      ]
     },
     "execution_count": 16,
     "metadata": {},
     "output_type": "execute_result"
    }
   ],
   "source": [
    "heights"
   ]
  },
  {
   "cell_type": "code",
   "execution_count": 17,
   "id": "ea5df152-2265-43e7-a69f-c9321b524f3d",
   "metadata": {},
   "outputs": [],
   "source": [
    "class Feature:\n",
    "    \n",
    "    def __init__(self,data,name=None,bin_width=None):\n",
    "        \n",
    "        self.name=name\n",
    "        self.bin_width=bin_width\n",
    "        if bin_width:\n",
    "            self.min,self.max=min(data),max(data)\n",
    "            bins=np.arange((self.min//bin_width)*bin_width,(self.max//bin_width)*bin_width,bin_width)\n",
    "            \n",
    "            freq,bins=np.histogram(data,bins)\n",
    "            self.freq_dict=dict(zip(bins,freq))\n",
    "            self.freq_sum=sum(self.freq_dict.values())\n",
    "            \n",
    "        else:\n",
    "            self.freq_dict=dict(Counter(data))\n",
    "            self.freq_sum=sum(self.freq_dict.values())\n",
    "            \n",
    "            \n",
    "    def frequency(self,value):\n",
    "        \n",
    "        if self.bin_width:\n",
    "            value=(value//self.bin_width)*self.bin_width\n",
    "        if value in self.freq_dict:\n",
    "            return self.freq_dict[value]\n",
    "        \n",
    "        else:\n",
    "            return 0\n",
    "        \n",
    "        "
   ]
  },
  {
   "cell_type": "code",
   "execution_count": 18,
   "id": "27c947ee-0408-409d-9e4d-205bd509c364",
   "metadata": {},
   "outputs": [
    {
     "name": "stdout",
     "output_type": "stream",
     "text": [
      "male {155: 1, 160: 5, 165: 4, 170: 6, 175: 7, 180: 5, 185: 8, 190: 8, 195: 2, 200: 3}\n",
      "female {130: 1, 135: 1, 140: 0, 145: 3, 150: 5, 155: 7, 160: 8, 165: 11, 170: 7, 175: 2, 180: 4, 185: 0}\n"
     ]
    }
   ],
   "source": [
    "fts={}\n",
    "for gender in genders:\n",
    "    fts[gender]=Feature(heights[gender],name=gender,bin_width=5)\n",
    "    print(gender, fts[gender].freq_dict)"
   ]
  },
  {
   "cell_type": "code",
   "execution_count": 19,
   "id": "b8b06f62-d54c-4f90-9170-ce53eaf16f50",
   "metadata": {},
   "outputs": [
    {
     "data": {
      "text/plain": [
       "<matplotlib.legend.Legend at 0x28e8e486910>"
      ]
     },
     "execution_count": 19,
     "metadata": {},
     "output_type": "execute_result"
    },
    {
     "data": {
      "image/png": "[encoded data removed]",
      "text/plain": [
       "<Figure size 432x288 with 1 Axes>"
      ]
     },
     "metadata": {
      "needs_background": "light"
     },
     "output_type": "display_data"
    }
   ],
   "source": [
    "for gender in genders:\n",
    "    frequencies = list(fts[gender].freq_dict.items())\n",
    "    frequencies.sort(key=lambda x: x[1])\n",
    "    X, Y = zip(*frequencies)\n",
    "    color = \"blue\" if gender==\"male\" else \"red\"\n",
    "    bar_width = 4 if gender==\"male\" else 3\n",
    "    plt.bar(X, Y, bar_width, color=color, alpha=0.75, label=gender)\n",
    "\n",
    "\n",
    "plt.legend(loc='upper right')"
   ]
  },
  {
   "cell_type": "code",
   "execution_count": 28,
   "id": "844a4ad6-b609-4968-a991-6e0f1694c08e",
   "metadata": {},
   "outputs": [],
   "source": [
    "class NBclass:\n",
    "    \n",
    "    def __init__(self,name,*features):\n",
    "        self.features=features\n",
    "        self.name=name\n",
    "        \n",
    "    def probability_value_given_feature(self,feature_value,feature):\n",
    "        if feature.freq_sum==0:\n",
    "            return 0\n",
    "        \n",
    "        else:\n",
    "            return feature.frequency(feature_value)/feature.freq_sum\n",
    "        \n",
    "        "
   ]
  },
  {
   "cell_type": "code",
   "execution_count": 29,
   "id": "4fa82900-3479-4aed-bc60-3b467580787b",
   "metadata": {},
   "outputs": [],
   "source": [
    "cls={}\n",
    "\n",
    "for gender in genders:\n",
    "    cls[gender]=NBclass(gender,fts[gender])"
   ]
  },
  {
   "cell_type": "code",
   "execution_count": 42,
   "id": "7b43bab5-0530-4d34-9ed7-35de09d888cc",
   "metadata": {},
   "outputs": [
    {
     "data": {
      "text/plain": [
       "(<__main__.Feature at 0x28e8e486c40>,)"
      ]
     },
     "execution_count": 42,
     "metadata": {},
     "output_type": "execute_result"
    }
   ],
   "source": [
    "cls['male'].features"
   ]
  },
  {
   "cell_type": "code",
   "execution_count": 38,
   "id": "ce3c94f8-3afa-4ae3-85ce-4105322e1ce6",
   "metadata": {},
   "outputs": [],
   "source": [
    "class Classifier:\n",
    "    def __init__(self,*nbclasses):\n",
    "        self.nbclasses=nbclasses\n",
    "        \n",
    "    def prob(self,*d,best_only=True):\n",
    "        nbclasses=self.nbclasses\n",
    "        probability_list=[]\n",
    "        \n",
    "        for nbclass in nbclasses:\n",
    "            \n",
    "            ftrs=nbclass.features\n",
    "            prob=1\n",
    "            \n",
    "            for i in range(len(ftrs)):\n",
    "                prob*=nbclass.probability_value_given_feature(d[i],ftrs[i])\n",
    "                \n",
    "            probability_list.append((prob,nbclass.name))\n",
    "                                    \n",
    "        prob_values=[f[0] for f in probability_list]\n",
    "        prob_sum = sum(prob_values)\n",
    "        \n",
    "        if prob_sum==0:\n",
    "            number_classes=len(self.nbclasses)\n",
    "            pl=[]\n",
    "            \n",
    "            for prob_element in probability_list:\n",
    "                pl.append((1/number_classes,prob_element[1]))\n",
    "                \n",
    "            probability_list=pl\n",
    "        else:\n",
    "            \n",
    "            probability_list=[(p[0]/prob_sum,p[1]) for p in probability_list]\n",
    "            \n",
    "        if best_only:\n",
    "            return max(probability_list)\n",
    "        else:\n",
    "            return probability_list\n",
    "                     "
   ]
  },
  {
   "cell_type": "code",
   "execution_count": 39,
   "id": "7808631b-caa3-4a4e-8027-5ff50471b5cb",
   "metadata": {},
   "outputs": [
    {
     "name": "stdout",
     "output_type": "stream",
     "text": [
      "130 [(0.0, 'male'), (1.0, 'female')]\n",
      "135 [(0.0, 'male'), (1.0, 'female')]\n",
      "140 [(0.5, 'male'), (0.5, 'female')]\n",
      "145 [(0.0, 'male'), (1.0, 'female')]\n",
      "150 [(0.0, 'male'), (1.0, 'female')]\n",
      "155 [(0.125, 'male'), (0.875, 'female')]\n",
      "160 [(0.3846153846153847, 'male'), (0.6153846153846154, 'female')]\n",
      "165 [(0.26666666666666666, 'male'), (0.7333333333333333, 'female')]\n",
      "170 [(0.4615384615384616, 'male'), (0.5384615384615385, 'female')]\n",
      "175 [(0.7777777777777778, 'male'), (0.22222222222222224, 'female')]\n",
      "180 [(0.5555555555555556, 'male'), (0.4444444444444445, 'female')]\n",
      "185 [(1.0, 'male'), (0.0, 'female')]\n",
      "190 [(1.0, 'male'), (0.0, 'female')]\n",
      "195 [(1.0, 'male'), (0.0, 'female')]\n",
      "200 [(1.0, 'male'), (0.0, 'female')]\n",
      "205 [(0.5, 'male'), (0.5, 'female')]\n",
      "210 [(0.5, 'male'), (0.5, 'female')]\n",
      "215 [(0.5, 'male'), (0.5, 'female')]\n"
     ]
    }
   ],
   "source": [
    "c=Classifier(cls['male'],cls['female'])\n",
    "\n",
    "for i in range(130,220,5):\n",
    "    print(i,c.prob(i,best_only=False))"
   ]
  },
  {
   "cell_type": "code",
   "execution_count": null,
   "id": "f1f3cc95-eed2-4e0c-b361-c749c1f698e4",
   "metadata": {},
   "outputs": [],
   "source": []
  }
 ],
 "metadata": {
  "kernelspec": {
   "display_name": "Python 3 (ipykernel)",
   "language": "python",
   "name": "python3"
  },
  "language_info": {
   "codemirror_mode": {
    "name": "ipython",
    "version": 3
   },
   "file_extension": ".py",
   "mimetype": "text/x-python",
   "name": "python",
   "nbconvert_exporter": "python",
   "pygments_lexer": "ipython3",
   "version": "3.9.12"
  }
 },
 "nbformat": 4,
 "nbformat_minor": 5
}

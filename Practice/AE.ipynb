{
 "cells": [
  {
   "cell_type": "code",
   "execution_count": 1,
   "id": "64ed37b5-d1d0-4ace-94eb-ad052864eb64",
   "metadata": {},
   "outputs": [],
   "source": [
    "import pandas as pd\n",
    "import numpy as np\n",
    "import matplotlib.pyplot as plt\n",
    "import tensorflow as tf\n",
    "from tensorflow import keras"
   ]
  },
  {
   "cell_type": "code",
   "execution_count": 2,
   "id": "512d5d3c-edf2-4ab6-9210-bea4090b3c8b",
   "metadata": {},
   "outputs": [],
   "source": [
    "(x_train,y_train),(x_test,y_test) = tf.keras.datasets.mnist.load_data()"
   ]
  },
  {
   "cell_type": "code",
   "execution_count": 3,
   "id": "37847394-c2b9-4b66-b810-a240784ced88",
   "metadata": {},
   "outputs": [
    {
     "data": {
      "text/plain": [
       "<matplotlib.image.AxesImage at 0x263dd2e6e20>"
      ]
     },
     "execution_count": 3,
     "metadata": {},
     "output_type": "execute_result"
    },
    {
     "data": {
      "image/png": "[encoded data removed]",
      "text/plain": [
       "<Figure size 432x288 with 1 Axes>"
      ]
     },
     "metadata": {
      "needs_background": "light"
     },
     "output_type": "display_data"
    }
   ],
   "source": [
    "plt.imshow(x_train[5])"
   ]
  },
  {
   "cell_type": "code",
   "execution_count": 4,
   "id": "f781056d-bb79-4e4e-9512-15deaf41cc0a",
   "metadata": {},
   "outputs": [],
   "source": [
    "x_train=x_train/255\n",
    "x_test=x_test/255"
   ]
  },
  {
   "cell_type": "code",
   "execution_count": 5,
   "id": "63d72bfd-7e2e-4b60-acd9-4f120fccfa75",
   "metadata": {},
   "outputs": [],
   "source": [
    "encoder_input=keras.Input(shape=(28,28,1),name='img')\n",
    "x=keras.layers.Flatten()(encoder_input)\n",
    "encoder_out=keras.layers.Dense(64,activation='relu')(x)\n",
    "encoder=keras.Model(encoder_input,encoder_out,name='encoder')"
   ]
  },
  {
   "cell_type": "code",
   "execution_count": 6,
   "id": "b93d2c2e-d624-4ae1-a165-3864bc557f9b",
   "metadata": {},
   "outputs": [],
   "source": [
    "decoder_input=keras.layers.Dense(64,activation='relu')(encoder_out)\n",
    "x=keras.layers.Dense(784,activation='relu')(decoder_input)\n",
    "decoder_output=keras.layers.Reshape((28,28,1))(x)\n"
   ]
  },
  {
   "cell_type": "code",
   "execution_count": 7,
   "id": "5b08c58a-5f14-4899-8506-28e7c4e79f65",
   "metadata": {},
   "outputs": [],
   "source": [
    "opt=tf.keras.optimizers.Adam(learning_rate=0.001,decay=1e-6)"
   ]
  },
  {
   "cell_type": "code",
   "execution_count": 8,
   "id": "034d71cf-92d0-40c4-aeed-b0b0b829e6b9",
   "metadata": {},
   "outputs": [],
   "source": [
    "autoencoder=keras.Model(encoder_input,decoder_output,name='autoencoder')"
   ]
  },
  {
   "cell_type": "code",
   "execution_count": 9,
   "id": "ac72c3e0-a4d7-4f76-bc0e-29f540beb637",
   "metadata": {},
   "outputs": [
    {
     "name": "stdout",
     "output_type": "stream",
     "text": [
      "Model: \"autoencoder\"\n",
      "_________________________________________________________________\n",
      " Layer (type)                Output Shape              Param #   \n",
      "=================================================================\n",
      " img (InputLayer)            [(None, 28, 28, 1)]       0         \n",
      "                                                                 \n",
      " flatten (Flatten)           (None, 784)               0         \n",
      "                                                                 \n",
      " dense (Dense)               (None, 64)                50240     \n",
      "                                                                 \n",
      " dense_1 (Dense)             (None, 64)                4160      \n",
      "                                                                 \n",
      " dense_2 (Dense)             (None, 784)               50960     \n",
      "                                                                 \n",
      " reshape (Reshape)           (None, 28, 28, 1)         0         \n",
      "                                                                 \n",
      "=================================================================\n",
      "Total params: 105,360\n",
      "Trainable params: 105,360\n",
      "Non-trainable params: 0\n",
      "_________________________________________________________________\n"
     ]
    }
   ],
   "source": [
    "autoencoder.summary()"
   ]
  },
  {
   "cell_type": "code",
   "execution_count": 10,
   "id": "0d6de88f-b4e3-4183-a114-92fff0b51477",
   "metadata": {},
   "outputs": [],
   "source": [
    "autoencoder.compile(opt,loss='mse')"
   ]
  },
  {
   "cell_type": "code",
   "execution_count": 11,
   "id": "0dc415a0-b302-4d1a-8821-c37e743f8126",
   "metadata": {},
   "outputs": [
    {
     "name": "stdout",
     "output_type": "stream",
     "text": [
      "1688/1688 [==============================] - 3s 1ms/step - loss: 0.0222 - val_loss: 0.0160\n",
      "INFO:tensorflow:Assets written to: models/AE-1.model\\assets\n",
      "1688/1688 [==============================] - 2s 1ms/step - loss: 0.0150 - val_loss: 0.0144\n",
      "INFO:tensorflow:Assets written to: models/AE-2.model\\assets\n",
      "1688/1688 [==============================] - 2s 1ms/step - loss: 0.0140 - val_loss: 0.0138\n",
      "INFO:tensorflow:Assets written to: models/AE-3.model\\assets\n"
     ]
    }
   ],
   "source": [
    "epochs=3\n",
    "for epoch in range(epochs):\n",
    "    history=autoencoder.fit(x_train,x_train,epochs=1,batch_size=32,validation_split=0.10)\n",
    "    autoencoder.save(f\"models/AE-{epoch+1}.model\")\n",
    "    \n",
    "    "
   ]
  },
  {
   "cell_type": "code",
   "execution_count": 12,
   "id": "2f86936f-29b7-427f-b014-2a8943b0eef3",
   "metadata": {},
   "outputs": [
    {
     "name": "stdout",
     "output_type": "stream",
     "text": [
      "1/1 [==============================] - 0s 60ms/step\n"
     ]
    },
    {
     "data": {
      "text/plain": [
       "<matplotlib.image.AxesImage at 0x263dc914790>"
      ]
     },
     "execution_count": 12,
     "metadata": {},
     "output_type": "execute_result"
    },
    {
     "data": {
      "image/png": "[encoded data removed]",
      "text/plain": [
       "<Figure size 432x288 with 1 Axes>"
      ]
     },
     "metadata": {
      "needs_background": "light"
     },
     "output_type": "display_data"
    }
   ],
   "source": [
    "example=encoder.predict([x_test[0].reshape(-1,28,28,1)])\n",
    "plt.imshow(x_test[0],cmap='gray')\n"
   ]
  },
  {
   "cell_type": "code",
   "execution_count": 13,
   "id": "e1d06c8c-4800-4151-8398-16574c8b0c1f",
   "metadata": {},
   "outputs": [
    {
     "data": {
      "text/plain": [
       "<matplotlib.image.AxesImage at 0x263dc93f8e0>"
      ]
     },
     "execution_count": 13,
     "metadata": {},
     "output_type": "execute_result"
    },
    {
     "data": {
      "image/png": "[encoded data removed]",
      "text/plain": [
       "<Figure size 432x288 with 1 Axes>"
      ]
     },
     "metadata": {
      "needs_background": "light"
     },
     "output_type": "display_data"
    }
   ],
   "source": [
    "plt.imshow(example[0].reshape((8,8)),cmap='gray')"
   ]
  },
  {
   "cell_type": "code",
   "execution_count": 16,
   "id": "9545d1c1-ac9f-48f9-a121-af1b468bbdfb",
   "metadata": {},
   "outputs": [
    {
     "name": "stdout",
     "output_type": "stream",
     "text": [
      "1/1 [==============================] - 0s 15ms/step\n"
     ]
    },
    {
     "data": {
      "text/plain": [
       "<matplotlib.image.AxesImage at 0x26382fd32b0>"
      ]
     },
     "execution_count": 16,
     "metadata": {},
     "output_type": "execute_result"
    },
    {
     "data": {
      "image/png": "[encoded data removed]",
      "text/plain": [
       "<Figure size 432x288 with 1 Axes>"
      ]
     },
     "metadata": {
      "needs_background": "light"
     },
     "output_type": "display_data"
    }
   ],
   "source": [
    "au_out=autoencoder.predict(x_test[0].reshape(-1,28,28,1))\n",
    "plt.imshow(au_out[0])"
   ]
  },
  {
   "cell_type": "code",
   "execution_count": 20,
   "id": "e78993e5-6667-45b7-81a1-a95897024ee4",
   "metadata": {},
   "outputs": [],
   "source": [
    "l=keras.layers.Flatten()(encoder_input)"
   ]
  },
  {
   "cell_type": "code",
   "execution_count": null,
   "id": "0d70d93b-7d05-4c73-980a-e2c399767297",
   "metadata": {},
   "outputs": [],
   "source": []
  },
  {
   "cell_type": "code",
   "execution_count": null,
   "id": "fef4dd4c-a73c-4146-911b-bae71c93754b",
   "metadata": {},
   "outputs": [],
   "source": []
  }
 ],
 "metadata": {
  "kernelspec": {
   "display_name": "Python 3 (ipykernel)",
   "language": "python",
   "name": "python3"
  },
  "language_info": {
   "codemirror_mode": {
    "name": "ipython",
    "version": 3
   },
   "file_extension": ".py",
   "mimetype": "text/x-python",
   "name": "python",
   "nbconvert_exporter": "python",
   "pygments_lexer": "ipython3",
   "version": "3.9.12"
  }
 },
 "nbformat": 4,
 "nbformat_minor": 5
}

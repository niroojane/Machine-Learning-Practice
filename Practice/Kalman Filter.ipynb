{
 "cells": [
  {
   "cell_type": "code",
   "execution_count": 7,
   "id": "bcf53fd8-5ca7-439b-a533-110e35580097",
   "metadata": {},
   "outputs": [],
   "source": [
    "import numpy as np\n",
    "import matplotlib.pyplot as plt"
   ]
  },
  {
   "cell_type": "code",
   "execution_count": 2,
   "id": "82e92945-55f7-4532-a04a-c329ed63047b",
   "metadata": {},
   "outputs": [],
   "source": [
    "class KalmanFilters:\n",
    "    \n",
    "    def __init__(self,x0,P0,A,B,C,Q,R):\n",
    "        \n",
    "        self.x0=x0\n",
    "        self.P0=P0\n",
    "        self.A=A\n",
    "        self.B=B\n",
    "        self.C=C\n",
    "        self.Q=Q\n",
    "        self.R=R\n",
    "        \n",
    "        self.currentTimeStep=0\n",
    "        self.estimates_aposteriori=[]\n",
    "        self.estimates_aposteriori.append(x0)\n",
    "        self.estimates_apriori=[]\n",
    "        \n",
    "        self.estimate_covarianceMatricesAposteriori=[]\n",
    "        self.estimate_covarianceMatricesAposteriori.append(P0)\n",
    "        \n",
    "        self.estimate_covarianceMatriceApriori=[]\n",
    "        \n",
    "        self.gainMatrice=[]\n",
    "        \n",
    "        self.errors=[]\n",
    "        \n",
    "    def propagateDynamics(self,inputValue):\n",
    "        \n",
    "        xk_minus=self.A*self.estimates_aposteriori[self.currentTimeStep]+self.B*inputValue\n",
    "        Pk_minus=self.A*self.estimate_covarianceMatriceApriori[self.currentTimeStep]*self.A.T+self.Q\n",
    "        \n",
    "        self.estimates_apriori.append(xk_minus)\n",
    "        self.estimate_covarianceMatriceApriori.append(Pk_minus)\n",
    "        \n",
    "        self.currentTimeStep+=1\n",
    "        \n",
    "        \n",
    "    def computeAposterioriEstimate(self,currentMeasurement):\n",
    "        \n",
    "        kk=self.estimate_covarianceMatriceApriori[self.currentTimeStep-1]*(self.C.T)*np.linalg.inv(self.R+self.C*self.estimate_covarianceMatriceApriori[self.currentTimeStep-1]*(self.C.T))\n",
    "        \n",
    "        error_k=currentMeasurement-self.C*self.estimates_apriori[self.currentTimeStep-1]\n",
    "        \n",
    "        xk_plus=self.estimates_apriori[self.currentTimeStep-1]+kk*error_k\n",
    "        \n",
    "        lminuskkC=np.matrix(np.eye(self.x0.shape[0]))-kk*self.C\n",
    "        \n",
    "        Pk_plus=lminuskkC*self.estimate_covarianceMatriceApriori[self.currentTimeStep-1]*(lminuskkC.T)+kk(self.R)*kk.T\n",
    "        \n",
    "        \n",
    "        self.gainMatrice.append(kk)\n",
    "        self.errors.qppend(error_k)\n",
    "        self.estimates_aposteriori.append(xk_plus)\n",
    "        self.estimate_covarianceMatricesAposteriori.append(Pk_plus)\n",
    "        \n",
    "        \n",
    "        "
   ]
  },
  {
   "cell_type": "code",
   "execution_count": 12,
   "id": "be1c76ec-8fcc-4759-937f-5d4fd19ccb70",
   "metadata": {},
   "outputs": [],
   "source": [
    "h=0.1\n",
    "initialPosition=10\n",
    "initialVelocity=-5\n",
    "\n",
    "acceleration=0.5\n",
    "\n",
    "noiseStd=1;\n",
    "numberTimeSteps=100"
   ]
  },
  {
   "cell_type": "code",
   "execution_count": 9,
   "id": "2da95192-54f7-4213-99c8-5ae891cfcb8b",
   "metadata": {},
   "outputs": [],
   "source": [
    "A=np.matrix([[1,h,0.5*(h**2)],[0, 1, h],[0,0,1]])\n",
    "B=np.matrix([[0],[0],[0]])\n",
    "C=np.matrix([[1,0,0]])\n",
    " \n",
    "R=1*np.matrix([[1]])\n",
    "Q=np.matrix(np.zeros((3,3)))\n",
    " \n",
    "x0=np.matrix([[0],[0],[0]])\n",
    "P0=1*np.matrix(np.eye(3))"
   ]
  },
  {
   "cell_type": "code",
   "execution_count": 10,
   "id": "fcaed07e-2f8d-4b72-855c-8d0d4a64b7ba",
   "metadata": {},
   "outputs": [],
   "source": [
    "timeVector=np.linspace(0,(numberTimeSteps-1)*h,numberTimeSteps)\n",
    " \n",
    "position=np.zeros(np.size(timeVector))\n",
    "velocity=np.zeros(np.size(timeVector))\n",
    " \n",
    "for i in np.arange(np.size(timeVector)):\n",
    "    position[i]=initialPosition+initialVelocity*timeVector[i]+(acceleration*timeVector[i]**2)/2\n",
    "    velocity[i]=initialVelocity+acceleration*timeVector[i]\n",
    "     \n",
    "positionNoisy=position+noiseStd*np.random.randn(np.size(timeVector))"
   ]
  },
  {
   "cell_type": "code",
   "execution_count": 11,
   "id": "718c83da-9ed0-4cb6-932f-b9371003ffad",
   "metadata": {},
   "outputs": [
    {
     "data": {
      "image/png": "[encoded data removed]",
      "text/plain": [
       "<Figure size 432x288 with 1 Axes>"
      ]
     },
     "metadata": {
      "needs_background": "light"
     },
     "output_type": "display_data"
    }
   ],
   "source": [
    "plotStep=numberTimeSteps//2\n",
    "plt.plot(timeVector[0:plotStep],position[0:plotStep],linewidth=4, label='Ideal position')\n",
    "plt.plot(timeVector[0:plotStep],positionNoisy[0:plotStep],'r', label='Observed position')\n",
    "plt.xlabel('time')\n",
    "plt.ylabel('position')\n",
    "plt.legend()\n",
    "plt.savefig('data.png',dpi=300)\n",
    "plt.show()"
   ]
  },
  {
   "cell_type": "code",
   "execution_count": null,
   "id": "675d62b3-2a33-423c-9059-8246e9594277",
   "metadata": {},
   "outputs": [],
   "source": []
  }
 ],
 "metadata": {
  "kernelspec": {
   "display_name": "Python 3 (ipykernel)",
   "language": "python",
   "name": "python3"
  },
  "language_info": {
   "codemirror_mode": {
    "name": "ipython",
    "version": 3
   },
   "file_extension": ".py",
   "mimetype": "text/x-python",
   "name": "python",
   "nbconvert_exporter": "python",
   "pygments_lexer": "ipython3",
   "version": "3.9.12"
  }
 },
 "nbformat": 4,
 "nbformat_minor": 5
}

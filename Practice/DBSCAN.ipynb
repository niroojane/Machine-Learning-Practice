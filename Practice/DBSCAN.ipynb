{
 "cells": [
  {
   "cell_type": "code",
   "execution_count": 11,
   "id": "54aa6c97-5f87-46ed-847f-09098044dd91",
   "metadata": {},
   "outputs": [],
   "source": [
    "import numpy as np\n",
    "import matplotlib.pyplot as plt"
   ]
  },
  {
   "cell_type": "code",
   "execution_count": 12,
   "id": "5a0e89a5-2030-460c-86b8-e4f4343fbcdc",
   "metadata": {},
   "outputs": [],
   "source": [
    "cluster1=np.random.normal(5,2,size=(50,2))\n",
    "cluster2=np.random.normal(15,3,size=(50,2))\n",
    "cluster3=np.random.normal(8,2,size=(50,2))\n",
    "\n",
    "dataset=np.concatenate((cluster1,cluster2,cluster3))"
   ]
  },
  {
   "cell_type": "code",
   "execution_count": 55,
   "id": "2eb06762-12f9-4189-8828-2db033f23372",
   "metadata": {},
   "outputs": [],
   "source": [
    "class DBSCAN:\n",
    "    \n",
    "    def __init__(self,eps=1,min_pts=4):\n",
    "        \n",
    "        self.eps=eps\n",
    "        self.min_pts=min_pts\n",
    "        self.clusters=[]\n",
    "        self.noise=[]\n",
    "     \n",
    "    def euclidean_distance(self,p1,p2):\n",
    "        return np.sqrt(np.sum((p1-p2)**2))\n",
    "    \n",
    "    def get_neighbors(self,dataset,point):\n",
    "        \n",
    "        neighbors=[]\n",
    "        \n",
    "        for index,candidate in enumerate(dataset):\n",
    "            if self.euclidean_distance(candidate,point)<self.eps:\n",
    "                neighbors.append(index)\n",
    "                    \n",
    "        return neighbors\n",
    "    \n",
    "    def expand_cluster(self,dataset,visited,index,neighbors):\n",
    "        \n",
    "        self.clusters.append([index])\n",
    "        i=0\n",
    "        \n",
    "        while i< len(neighbors):\n",
    "            next_index=neighbors[i]\n",
    "            if not visited[next_index]:\n",
    "                visited[next_index]=True\n",
    "                next_neighbors=self.get_neighbors(dataset,dataset[next_index])\n",
    "                \n",
    "                if len(next_neighbors)>=self.min_pts:\n",
    "                    neighbors+=next_neighbors\n",
    "                    \n",
    "            cluster_indices=[i for cluster in self.clusters for i in cluster]\n",
    "            \n",
    "            if next_index not in cluster_indices:\n",
    "                self.clusters[-1].append(next_index)\n",
    "                \n",
    "            i=i+1\n",
    "            \n",
    "    \n",
    "    def fit(self,dataset):\n",
    "        \n",
    "        visited=[False]*len(dataset)\n",
    "        \n",
    "        for index in range(len(dataset)):\n",
    "            if not visited[index]:\n",
    "                \n",
    "                visited[index]=True\n",
    "                neighbors=self.get_neighbors(dataset,dataset[index])\n",
    "                \n",
    "                if len(neighbors)<self.min_pts:  \n",
    "                    self.noise.append(index)        \n",
    "                else:  \n",
    "                    self.expand_cluster(dataset,visited,index,neighbors)\n",
    "                    \n",
    "        return self.clusters,self.noise\n",
    "    \n",
    "    \n",
    "    \n",
    "    def plot(self, dataset):\n",
    "        \n",
    "        plt.figure(figsize=(10, 10))\n",
    "        colors = ['b', 'g', 'r', 'c', 'm', 'y', 'k']\n",
    "        for i, indices in enumerate(self.clusters):\n",
    "            points = dataset[indices]\n",
    "            plt.scatter(points[:, 0], points[:, 1], c=colors[i % len(colors)])\n",
    "        noise_points = dataset[self.noise]\n",
    "        plt.scatter(noise_points[:, 0], noise_points[:, 1], c='black')\n",
    "        plt.show()"
   ]
  },
  {
   "cell_type": "code",
   "execution_count": 57,
   "id": "225a44df-94f5-4b6d-b1d6-67844c581cf6",
   "metadata": {},
   "outputs": [],
   "source": [
    "dbscan = DBSCAN(eps=1, min_pts=5)\n",
    "clusters, noise = dbscan.fit(dataset)"
   ]
  },
  {
   "cell_type": "code",
   "execution_count": 58,
   "id": "78a8ec3b-ebdf-4663-ad4e-ee46514b3503",
   "metadata": {},
   "outputs": [
    {
     "data": {
      "image/png": "[encoded data removed]",
      "text/plain": [
       "<Figure size 720x720 with 1 Axes>"
      ]
     },
     "metadata": {
      "needs_background": "light"
     },
     "output_type": "display_data"
    }
   ],
   "source": [
    "dbscan.plot(dataset)"
   ]
  }
 ],
 "metadata": {
  "kernelspec": {
   "display_name": "Python 3 (ipykernel)",
   "language": "python",
   "name": "python3"
  },
  "language_info": {
   "codemirror_mode": {
    "name": "ipython",
    "version": 3
   },
   "file_extension": ".py",
   "mimetype": "text/x-python",
   "name": "python",
   "nbconvert_exporter": "python",
   "pygments_lexer": "ipython3",
   "version": "3.9.12"
  }
 },
 "nbformat": 4,
 "nbformat_minor": 5
}

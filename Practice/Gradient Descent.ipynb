{
 "cells": [
  {
   "cell_type": "code",
   "execution_count": 1,
   "id": "162c3a2a-54a9-4b8c-811f-d14867588c0c",
   "metadata": {},
   "outputs": [],
   "source": [
    "import numpy as np\n",
    "import matplotlib.pyplot as plt"
   ]
  },
  {
   "cell_type": "code",
   "execution_count": 2,
   "id": "171e1a1c-424a-49b6-96bd-6473e452d282",
   "metadata": {},
   "outputs": [],
   "source": [
    "def f(x, y):\n",
    "    return x**2 + y**2\n",
    "\n",
    "def gradient(x, y):\n",
    "    grad_x = 2 * x\n",
    "    grad_y = 2 * y\n",
    "    return grad_x, grad_y\n",
    "    "
   ]
  },
  {
   "cell_type": "markdown",
   "id": "fbae828f-5e64-470f-9db7-8dd9f63919f9",
   "metadata": {},
   "source": [
    "# Gradient Descent"
   ]
  },
  {
   "cell_type": "code",
   "execution_count": 4,
   "id": "b1b3a3fb-57a6-4b74-9e30-471ed5f3fc0f",
   "metadata": {},
   "outputs": [
    {
     "data": {
      "text/plain": [
       "[<matplotlib.lines.Line2D at 0x20754fe8100>]"
      ]
     },
     "execution_count": 4,
     "metadata": {},
     "output_type": "execute_result"
    },
    {
     "data": {
      "image/png": "[encoded data removed]",
      "text/plain": [
       "<Figure size 432x288 with 1 Axes>"
      ]
     },
     "metadata": {
      "needs_background": "light"
     },
     "output_type": "display_data"
    }
   ],
   "source": [
    "learning_rate=0.001\n",
    "x=100\n",
    "y=100\n",
    "iteration=0\n",
    "\n",
    "cost=[]\n",
    "while f(x,y)>0.0001:\n",
    "    \n",
    "    grad_x,grad_y=gradient(x,y)\n",
    "    x=x-learning_rate*grad_x\n",
    "    y=y-learning_rate*grad_y\n",
    "    \n",
    "    cost.append(f(x,y))\n",
    "    iteration+=1\n",
    "plt.plot(cost)"
   ]
  },
  {
   "cell_type": "code",
   "execution_count": 5,
   "id": "db6f0be8-ada6-42f4-90f2-04ac8143f468",
   "metadata": {},
   "outputs": [
    {
     "data": {
      "text/plain": [
       "4774"
      ]
     },
     "execution_count": 5,
     "metadata": {},
     "output_type": "execute_result"
    }
   ],
   "source": [
    "iteration"
   ]
  },
  {
   "cell_type": "markdown",
   "id": "727842d5-8168-49a8-9814-69ad533f4a1c",
   "metadata": {},
   "source": [
    "# Momentum Gradient Descent"
   ]
  },
  {
   "cell_type": "code",
   "execution_count": 6,
   "id": "c031df76-e346-4e1f-abf8-41a026727f93",
   "metadata": {},
   "outputs": [
    {
     "data": {
      "text/plain": [
       "[<matplotlib.lines.Line2D at 0x20755a323a0>]"
      ]
     },
     "execution_count": 6,
     "metadata": {},
     "output_type": "execute_result"
    },
    {
     "data": {
      "image/png": "[encoded data removed]",
      "text/plain": [
       "<Figure size 432x288 with 1 Axes>"
      ]
     },
     "metadata": {
      "needs_background": "light"
     },
     "output_type": "display_data"
    }
   ],
   "source": [
    "learning_rate=0.01\n",
    "\n",
    "x=100000\n",
    "y=100000\n",
    "rho=0.9\n",
    "update1=0\n",
    "update2=0\n",
    "cost=[]\n",
    "iteration=0\n",
    "\n",
    "while f(x,y)>0.0001:\n",
    "    \n",
    "    grad_x,grad_y=gradient(x,y)\n",
    "    \n",
    "    update1=update1*rho+learning_rate*grad_x\n",
    "    update2=update2*rho+learning_rate*grad_y\n",
    "    \n",
    "    x=x-update1\n",
    "    y=y-update2\n",
    "    \n",
    "    cost.append(f(x,y))\n",
    "    iteration+=1\n",
    "plt.plot(cost)"
   ]
  },
  {
   "cell_type": "code",
   "execution_count": 7,
   "id": "6439f22f-4389-4ee2-a0e6-14b59ac9a49d",
   "metadata": {},
   "outputs": [
    {
     "data": {
      "text/plain": [
       "246"
      ]
     },
     "execution_count": 7,
     "metadata": {},
     "output_type": "execute_result"
    }
   ],
   "source": [
    "iteration"
   ]
  },
  {
   "cell_type": "markdown",
   "id": "d92a9b7b-6b73-4e61-8561-23e434675cd2",
   "metadata": {},
   "source": [
    "# NAG"
   ]
  },
  {
   "cell_type": "code",
   "execution_count": 8,
   "id": "c136b227-3600-4d1f-a9ac-c54f146434a7",
   "metadata": {},
   "outputs": [
    {
     "data": {
      "text/plain": [
       "[<matplotlib.lines.Line2D at 0x20756212d30>]"
      ]
     },
     "execution_count": 8,
     "metadata": {},
     "output_type": "execute_result"
    },
    {
     "data": {
      "image/png": "[encoded data removed]",
      "text/plain": [
       "<Figure size 432x288 with 1 Axes>"
      ]
     },
     "metadata": {
      "needs_background": "light"
     },
     "output_type": "display_data"
    }
   ],
   "source": [
    "learning_rate=0.01\n",
    "\n",
    "x=52\n",
    "y=1\n",
    "rho=0.9\n",
    "update1=0\n",
    "update2=0\n",
    "cost=[]\n",
    "iteration=0\n",
    "\n",
    "while f(x,y)>0.0001:\n",
    "    \n",
    "    grad_x,grad_y=gradient(x-update1,y-update2)\n",
    "    \n",
    "    update1=update1*rho+learning_rate*grad_x\n",
    "    update2=update2*rho+learning_rate*grad_y\n",
    "    \n",
    "    x=x-update1\n",
    "    y=y-update2\n",
    "    \n",
    "    cost.append(f(x,y))\n",
    "    iteration+=1\n",
    "plt.plot(cost)"
   ]
  },
  {
   "cell_type": "code",
   "execution_count": 9,
   "id": "a364bdcf-9ff4-4da3-b1ae-7b5256c29ae6",
   "metadata": {},
   "outputs": [
    {
     "data": {
      "text/plain": [
       "110"
      ]
     },
     "execution_count": 9,
     "metadata": {},
     "output_type": "execute_result"
    }
   ],
   "source": [
    "iteration"
   ]
  },
  {
   "cell_type": "markdown",
   "id": "1c593b38-0526-4236-9406-f3687e508765",
   "metadata": {},
   "source": [
    "# Adagrad"
   ]
  },
  {
   "cell_type": "code",
   "execution_count": 10,
   "id": "9be1c7f2-98c0-414d-8c1f-8b105f4cd484",
   "metadata": {},
   "outputs": [],
   "source": [
    "learning_rate = 0.01\n",
    "epsilon = 1e-8\n",
    "num_iterations = 100\n",
    "iteration=0\n",
    "\n",
    "x = 1\n",
    "y = 1\n",
    "\n",
    "dw1 = 0.0\n",
    "dw2 = 0.0\n",
    "cost=[]\n",
    "\n",
    "while f(x,y)>0.001:\n",
    "    grad_x, grad_y = gradient(x, y)\n",
    "    \n",
    "    dw1 += grad_x**2\n",
    "    dw2 += grad_y**2\n",
    "    \n",
    "    adapted_learning_rate_x = learning_rate / np.sqrt(dw1 + epsilon)\n",
    "    adapted_learning_rate_y = learning_rate / np.sqrt(dw2 + epsilon)\n",
    "    \n",
    "    x = x - adapted_learning_rate_x * grad_x\n",
    "    y = y - adapted_learning_rate_y * grad_y\n",
    "    \n",
    "    iteration+=1\n",
    "    cost.append(f(x, y))"
   ]
  },
  {
   "cell_type": "code",
   "execution_count": 11,
   "id": "a4d55104-0f4b-421e-884c-a1ff6374f0f0",
   "metadata": {},
   "outputs": [
    {
     "data": {
      "text/plain": [
       "[<matplotlib.lines.Line2D at 0x207562b3d30>]"
      ]
     },
     "execution_count": 11,
     "metadata": {},
     "output_type": "execute_result"
    },
    {
     "data": {
      "image/png": "[encoded data removed]",
      "text/plain": [
       "<Figure size 432x288 with 1 Axes>"
      ]
     },
     "metadata": {
      "needs_background": "light"
     },
     "output_type": "display_data"
    }
   ],
   "source": [
    "plt.plot(cost)"
   ]
  },
  {
   "cell_type": "code",
   "execution_count": 12,
   "id": "06873d25-9b63-48ea-9463-882fb79e6b06",
   "metadata": {},
   "outputs": [
    {
     "data": {
      "text/plain": [
       "8522"
      ]
     },
     "execution_count": 12,
     "metadata": {},
     "output_type": "execute_result"
    }
   ],
   "source": [
    "iteration"
   ]
  },
  {
   "cell_type": "markdown",
   "id": "a3256ffd-0b03-47c1-9a6a-d220d2873752",
   "metadata": {},
   "source": [
    "# RMSprop"
   ]
  },
  {
   "cell_type": "code",
   "execution_count": 13,
   "id": "b6dac5a8-5d96-4a78-9dc7-7632d5040b26",
   "metadata": {},
   "outputs": [],
   "source": [
    "learning_rate=0.1\n",
    "\n",
    "x=100000\n",
    "y=100000\n",
    "rho=0.9\n",
    "update1=0\n",
    "update2=0\n",
    "cost=[]\n",
    "iteration=0\n",
    "\n",
    "x = 1\n",
    "y = 1\n",
    "\n",
    "dw1 = 0.0\n",
    "dw2 = 0.0\n",
    "cost=[]\n",
    "\n",
    "while f(x,y)>0.001:\n",
    "    grad_x, grad_y = gradient(x, y)\n",
    "    \n",
    "    dw1 += grad_x**2\n",
    "    dw2 += grad_y**2\n",
    "    \n",
    "    update1=rho*update1+(1-rho)*dw1\n",
    "    update2=rho*update2+(1-rho)*dw2\n",
    "    \n",
    "    adapted_learning_rate_x = learning_rate / np.sqrt(update1 + epsilon)\n",
    "    adapted_learning_rate_y = learning_rate / np.sqrt(update2 + epsilon)\n",
    "    \n",
    "    x = x - adapted_learning_rate_x * grad_x\n",
    "    y = y - adapted_learning_rate_y * grad_y\n",
    "    \n",
    "    iteration+=1\n",
    "    cost.append(f(x, y))"
   ]
  },
  {
   "cell_type": "code",
   "execution_count": 14,
   "id": "45ceeb3e-d5ee-42a0-939e-43dfaedf7a05",
   "metadata": {},
   "outputs": [
    {
     "data": {
      "text/plain": [
       "[<matplotlib.lines.Line2D at 0x2075625d850>]"
      ]
     },
     "execution_count": 14,
     "metadata": {},
     "output_type": "execute_result"
    },
    {
     "data": {
      "image/png": "[encoded data removed]",
      "text/plain": [
       "<Figure size 432x288 with 1 Axes>"
      ]
     },
     "metadata": {
      "needs_background": "light"
     },
     "output_type": "display_data"
    }
   ],
   "source": [
    "plt.plot(cost)"
   ]
  },
  {
   "cell_type": "code",
   "execution_count": 15,
   "id": "052bed5d-3728-4128-888e-e6b22af4a2fb",
   "metadata": {},
   "outputs": [
    {
     "data": {
      "text/plain": [
       "44"
      ]
     },
     "execution_count": 15,
     "metadata": {},
     "output_type": "execute_result"
    }
   ],
   "source": [
    "iteration"
   ]
  },
  {
   "cell_type": "markdown",
   "id": "d0646241-f81d-41e6-a9cf-954d11bf59fb",
   "metadata": {},
   "source": [
    "# Adam"
   ]
  },
  {
   "cell_type": "code",
   "execution_count": 22,
   "id": "b81976c1-6c39-4bfc-a2d2-aee353239869",
   "metadata": {},
   "outputs": [],
   "source": [
    "\n",
    "\n",
    "learning_rate = 0.1\n",
    "beta1 = 0.9\n",
    "beta2 = 0.999\n",
    "epsilon = 1e-8\n",
    "\n",
    "x = 5\n",
    "y = 5\n",
    "\n",
    "m_x = 0.0\n",
    "m_y = 0.0\n",
    "v_x = 0.0\n",
    "v_y = 0.0\n",
    "\n",
    "iteration = 0\n",
    "cost_history = []\n",
    "\n",
    "while f(x,y)>0.0001 and iteration<100:\n",
    "    grad_x, grad_y = gradient(x, y)\n",
    "\n",
    "    m_x = beta1 * m_x + (1 - beta1) * grad_x\n",
    "    m_y = beta1 * m_y + (1 - beta1) * grad_y\n",
    "\n",
    "    v_x = beta2 * v_x + (1 - beta2) * (grad_x ** 2)\n",
    "    v_y = beta2 * v_y + (1 - beta2) * (grad_y ** 2)\n",
    "\n",
    "    mhat_x = m_x / (1 - beta1 ** (iteration + 1))\n",
    "    mhat_y = m_y / (1 - beta1 ** (iteration + 1))\n",
    "\n",
    "    vhat_x = v_x / (1 - beta2 ** (iteration + 1))\n",
    "    vhat_y = v_y / (1 - beta2 ** (iteration + 1))\n",
    "\n",
    "    x = x - (learning_rate / (np.sqrt(vhat_x) + epsilon)) * mhat_x\n",
    "    y = y - (learning_rate / (np.sqrt(vhat_y) + epsilon)) * mhat_y\n",
    "\n",
    "    cost = f(x, y)\n",
    "    cost_history.append(cost)\n",
    "    \n",
    "    iteration+=1\n"
   ]
  },
  {
   "cell_type": "code",
   "execution_count": 23,
   "id": "918b1342-4ed0-4332-af72-dcbf424e274f",
   "metadata": {},
   "outputs": [
    {
     "data": {
      "text/plain": [
       "[<matplotlib.lines.Line2D at 0x20757722a00>]"
      ]
     },
     "execution_count": 23,
     "metadata": {},
     "output_type": "execute_result"
    },
    {
     "data": {
      "image/png": "[encoded data removed]",
      "text/plain": [
       "<Figure size 432x288 with 1 Axes>"
      ]
     },
     "metadata": {
      "needs_background": "light"
     },
     "output_type": "display_data"
    }
   ],
   "source": [
    "plt.plot(cost_history)"
   ]
  },
  {
   "cell_type": "code",
   "execution_count": null,
   "id": "6059bf96-1ca2-44c0-91dc-3cb241b7c109",
   "metadata": {},
   "outputs": [],
   "source": []
  }
 ],
 "metadata": {
  "kernelspec": {
   "display_name": "Python 3 (ipykernel)",
   "language": "python",
   "name": "python3"
  },
  "language_info": {
   "codemirror_mode": {
    "name": "ipython",
    "version": 3
   },
   "file_extension": ".py",
   "mimetype": "text/x-python",
   "name": "python",
   "nbconvert_exporter": "python",
   "pygments_lexer": "ipython3",
   "version": "3.9.12"
  }
 },
 "nbformat": 4,
 "nbformat_minor": 5
}

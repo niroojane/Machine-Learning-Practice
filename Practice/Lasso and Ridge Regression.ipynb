{
 "cells": [
  {
   "cell_type": "code",
   "execution_count": 1,
   "id": "b88ecc47-afd8-4983-971a-e79f9f5effad",
   "metadata": {},
   "outputs": [],
   "source": [
    "import numpy as np\n",
    "import matplotlib.pyplot as plt\n",
    "import pandas as pd\n",
    "from sklearn.metrics import r2_score\n",
    "from sklearn.datasets import make_regression"
   ]
  },
  {
   "cell_type": "code",
   "execution_count": 13,
   "id": "9089557f-701f-416d-89a3-5439fc567d64",
   "metadata": {},
   "outputs": [],
   "source": [
    "class Regression:\n",
    "    \n",
    "    def __init__(self,learning_rate,iterations,regularization):\n",
    "        \n",
    "        self.learning_rate=learning_rate\n",
    "        self.iterations=iterations\n",
    "        \n",
    "        self.regularization=regularization\n",
    "            \n",
    "        self.w=None\n",
    "        self.b=None\n",
    "        self.m=None\n",
    "        self.n=None\n",
    "        \n",
    "    def cost_function(self,y,y_pred):\n",
    "        \n",
    "        return (1/(2*self.m))*np.sum(np.square(y_pred-y))+self.regularization(self.w)\n",
    "  \n",
    "    def hypothesis(self,weights,bias,X):\n",
    "        \n",
    "        return np.dot(X,weights)+bias\n",
    "    \n",
    "    def train(self,X,Y):\n",
    "        \n",
    "        \n",
    "        X=np.insert(X,0,1,axis=1)\n",
    "        self.m=X.shape[0]\n",
    "        self.n=X.shape[1]\n",
    "        self.w=np.zeros((self.n,1))\n",
    "        self.b=0\n",
    "        \n",
    "        \n",
    "        \n",
    "        for iteration in range(1,self.iterations+1):\n",
    "            \n",
    "            y_pred=self.hypothesis(self.w,self.b,X)\n",
    "            cost=self.cost_function(Y,y_pred)\n",
    "            dw=(1/self.m)*(np.dot(X.T,y_pred-Y))+self.regularization.derivation(self.w)\n",
    "            db=(2/self.m)*np.sum(y_pred-Y)\n",
    "            \n",
    "            self.w-=self.learning_rate*dw\n",
    "            self.b-=self.learning_rate*db\n",
    "            \n",
    "\n",
    "    def predict(self,X_test):\n",
    "        \n",
    "        X_test=np.insert(X_test,0,1,axis=1)\n",
    "        \n",
    "        y_pred=self.hypothesis(self.w,self.b,X_test)\n",
    "        \n",
    "        \n",
    "        return y_pred"
   ]
  },
  {
   "cell_type": "code",
   "execution_count": 14,
   "id": "94f1c5d2-c1e8-44ae-b45a-9b2c849c60a7",
   "metadata": {},
   "outputs": [],
   "source": [
    "class l1_regularization:\n",
    "    \n",
    "    def __init__(self,lamda):\n",
    "        self.lamda=lamda\n",
    "        \n",
    "    def __call__(self,weights):\n",
    "        \n",
    "        return self.lamda*np.sum(np.abs(weights))\n",
    "    \n",
    "    def derivation(self,weights):\n",
    "        \n",
    "        return self.lamda*np.sign(weights)"
   ]
  },
  {
   "cell_type": "code",
   "execution_count": 15,
   "id": "f50c3a73-3044-44c1-9212-ac526e76626f",
   "metadata": {},
   "outputs": [],
   "source": [
    "class l2_regularization:\n",
    "    \n",
    "    def __init__(self,lamda):\n",
    "        self.lamda=lamda\n",
    "        \n",
    "    def __call__(self,weights):\n",
    "        \n",
    "        return self.lamda*np.sum(np.square(weights))\n",
    "    \n",
    "    def derivation(self,weights):\n",
    "        \n",
    "        return self.lamda*2*(weights)"
   ]
  },
  {
   "cell_type": "code",
   "execution_count": 16,
   "id": "1b02c271-e4f9-4cd6-95fd-a7be63fd84c4",
   "metadata": {},
   "outputs": [],
   "source": [
    "class Lasso(Regression):\n",
    "    \n",
    "    def __init__(self,lamda,learning_rate,iterations):\n",
    "        \n",
    "        self.regularization=l1_regularization(lamda)\n",
    "        super(Lasso,self).__init__(learning_rate,iterations,self.regularization)\n",
    "        \n",
    "    def train(self,X,y):\n",
    "        \n",
    "        return super(Lasso,self).train(X,y)\n",
    "    \n",
    "    def predict(self,test_X):\n",
    "        \n",
    "        return super(Lasso,self).predict(test_X)\n",
    "    "
   ]
  },
  {
   "cell_type": "code",
   "execution_count": 34,
   "id": "5f32ea1b-8f64-4dd8-a8bf-c295dd6bf24d",
   "metadata": {},
   "outputs": [],
   "source": [
    "class Ridge(Regression):\n",
    "    \n",
    "    def __init__(self,lamda,learning_rate,iterations):\n",
    "        \n",
    "        self.regularization=l2_regularization(lamda)\n",
    "        super(Ridge,self).__init__(learning_rate,iterations,self.regularization)\n",
    "        \n",
    "    def train(self,X,y):\n",
    "        \n",
    "        return super(Ridge,self).train(X,y)\n",
    "    \n",
    "    def predict(self,test_X):\n",
    "        \n",
    "        return super(Ridge,self).predict(test_X)\n",
    "    "
   ]
  },
  {
   "cell_type": "code",
   "execution_count": 35,
   "id": "bcf0e265-cf87-4f52-be8e-df0aa0e0bd36",
   "metadata": {},
   "outputs": [],
   "source": [
    "lamda=0.1\n",
    "learning_rate=0.1,\n",
    "iteration=100"
   ]
  },
  {
   "cell_type": "code",
   "execution_count": 36,
   "id": "c77e667d-da0b-4e2b-99af-7488c345fcd7",
   "metadata": {},
   "outputs": [],
   "source": [
    "X, y = make_regression(n_samples=50000, n_features=8)"
   ]
  },
  {
   "cell_type": "code",
   "execution_count": 37,
   "id": "0e83b2ff-278d-4cd4-bb57-32382a8c7977",
   "metadata": {},
   "outputs": [],
   "source": [
    "y = y[:, np.newaxis]"
   ]
  },
  {
   "cell_type": "code",
   "execution_count": 38,
   "id": "1bebce87-aacc-47ce-b25e-570f1cf0b29c",
   "metadata": {},
   "outputs": [],
   "source": [
    "linear_reg = Lasso(lamda=0.1,learning_rate=0.1,iterations=100)\n",
    "linear_reg.train(X,y)\n",
    "y_pred=linear_reg.predict(X)"
   ]
  },
  {
   "cell_type": "code",
   "execution_count": 39,
   "id": "8f4fc636-4a1c-4884-b97b-991a9ff49ee3",
   "metadata": {},
   "outputs": [
    {
     "data": {
      "text/plain": [
       "0.9999961108518173"
      ]
     },
     "execution_count": 39,
     "metadata": {},
     "output_type": "execute_result"
    }
   ],
   "source": [
    "r2_score(y,y_pred)"
   ]
  },
  {
   "cell_type": "code",
   "execution_count": 40,
   "id": "dc0670b8-d0f6-4d28-9650-6724cab8a200",
   "metadata": {},
   "outputs": [],
   "source": [
    "linear_reg = Ridge(lamda=0.1,learning_rate=0.1,iterations=100)\n",
    "linear_reg.train(X,y)\n",
    "y_pred=linear_reg.predict(X)"
   ]
  },
  {
   "cell_type": "code",
   "execution_count": 41,
   "id": "a386845a-fa0e-460e-96b8-24773b177ca3",
   "metadata": {},
   "outputs": [
    {
     "data": {
      "text/plain": [
       "0.9725743515716969"
      ]
     },
     "execution_count": 41,
     "metadata": {},
     "output_type": "execute_result"
    }
   ],
   "source": [
    "r2_score(y,y_pred)"
   ]
  },
  {
   "cell_type": "code",
   "execution_count": null,
   "id": "535ecc90-9f7b-4094-97d8-c36afa419b6c",
   "metadata": {},
   "outputs": [],
   "source": []
  }
 ],
 "metadata": {
  "kernelspec": {
   "display_name": "Python 3 (ipykernel)",
   "language": "python",
   "name": "python3"
  },
  "language_info": {
   "codemirror_mode": {
    "name": "ipython",
    "version": 3
   },
   "file_extension": ".py",
   "mimetype": "text/x-python",
   "name": "python",
   "nbconvert_exporter": "python",
   "pygments_lexer": "ipython3",
   "version": "3.9.12"
  }
 },
 "nbformat": 4,
 "nbformat_minor": 5
}

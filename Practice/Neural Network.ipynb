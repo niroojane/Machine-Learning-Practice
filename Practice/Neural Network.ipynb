{
 "cells": [
  {
   "cell_type": "code",
   "execution_count": 1,
   "id": "a68b782f-3380-4cbb-8edd-63f8693788d3",
   "metadata": {},
   "outputs": [],
   "source": [
    "import numpy as np\n",
    "import pandas as pd\n",
    "import matplotlib.pyplot as plt\n",
    "from sklearn.datasets import make_blobs\n",
    "from sklearn.metrics import accuracy_score"
   ]
  },
  {
   "cell_type": "code",
   "execution_count": 2,
   "id": "4dd9493f-2ffe-4d3e-9226-e55bf24b51d5",
   "metadata": {},
   "outputs": [
    {
     "data": {
      "text/plain": [
       "<matplotlib.collections.PathCollection at 0x18e2e74c430>"
      ]
     },
     "execution_count": 2,
     "metadata": {},
     "output_type": "execute_result"
    },
    {
     "data": {
      "image/png": "[encoded data removed]",
      "text/plain": [
       "<Figure size 432x288 with 1 Axes>"
      ]
     },
     "metadata": {
      "needs_background": "light"
     },
     "output_type": "display_data"
    }
   ],
   "source": [
    "X, y = make_blobs(n_samples=100, n_features=2,centers= 2,random_state=0)\n",
    "y=y.reshape(y.shape[0],1)\n",
    "plt.scatter(X[:,0],X[:,1],c=y,cmap='summer' )"
   ]
  },
  {
   "cell_type": "code",
   "execution_count": null,
   "id": "4a3dd2d6-bf8a-4cc5-8e7c-f2270db57276",
   "metadata": {},
   "outputs": [],
   "source": [
    "\n"
   ]
  },
  {
   "cell_type": "code",
   "execution_count": 4,
   "id": "b67177cc-bf72-457c-9fdd-b382c0fa9eab",
   "metadata": {},
   "outputs": [
    {
     "data": {
      "text/plain": [
       "(array([-1.67968743]),\n",
       " array([[ 0.11750596],\n",
       "        [-0.49641521]]))"
      ]
     },
     "execution_count": 4,
     "metadata": {},
     "output_type": "execute_result"
    }
   ],
   "source": [
    "def initia(X):\n",
    "    W=np.random.randn(X.shape[1],1)\n",
    "    b=np.random.randn(1)\n",
    "    return (W,b)\n",
    "W, b= initia(X)\n",
    "b ,W"
   ]
  },
  {
   "cell_type": "code",
   "execution_count": 4,
   "id": "60c28db4-362d-4978-b6cc-531569bbafc2",
   "metadata": {},
   "outputs": [],
   "source": [
    "def model(X,W,b):\n",
    "    Z=X.dot(W)+b\n",
    "    A=1/(1+np.exp(-Z))\n",
    "    return A\n"
   ]
  },
  {
   "cell_type": "code",
   "execution_count": 5,
   "id": "344cd66f-c647-4c26-9349-e55308c850d8",
   "metadata": {},
   "outputs": [
    {
     "data": {
      "text/plain": [
       "(100, 1)"
      ]
     },
     "execution_count": 5,
     "metadata": {},
     "output_type": "execute_result"
    }
   ],
   "source": [
    "A= model(X,W,b)\n",
    "A.shape"
   ]
  },
  {
   "cell_type": "code",
   "execution_count": 6,
   "id": "0c42164e-4813-4d63-a8dc-a1c4dd89cb64",
   "metadata": {},
   "outputs": [
    {
     "data": {
      "text/plain": [
       "1.5417725972561476"
      ]
     },
     "execution_count": 6,
     "metadata": {},
     "output_type": "execute_result"
    }
   ],
   "source": [
    "def log_loss(A,y):\n",
    "    return -1/len(y)*np.sum(y*np.log(A)+(1-y)*np.log(1-A))\n",
    "    \n",
    "log_loss(A,y)"
   ]
  },
  {
   "cell_type": "code",
   "execution_count": 7,
   "id": "8af9824c-5c0b-457b-a8bf-c94e2def39fd",
   "metadata": {},
   "outputs": [],
   "source": [
    "def gradients(A,X,y):\n",
    "    dW=1/len(y)*np.dot(X.T,(A-y))\n",
    "    db=1/len(y)*np.sum(A-y)\n",
    "    return (dW,db)\n",
    "dW, db= gradients(A,X,y)\n",
    "\n"
   ]
  },
  {
   "cell_type": "code",
   "execution_count": 8,
   "id": "dae1bf9e-9bc0-483c-856a-0d2b4eba9ad6",
   "metadata": {},
   "outputs": [],
   "source": [
    "def update(dW,db,W,b,learning_rate):\n",
    "    W=W- learning_rate*dW\n",
    "    W=W- learning_rate*db\n",
    "    return (W,b)"
   ]
  },
  {
   "cell_type": "code",
   "execution_count": 9,
   "id": "ff1132a8-750e-48cc-904a-670d7254708e",
   "metadata": {},
   "outputs": [],
   "source": [
    "def predict(X,W,b):\n",
    "    y=model(X,W,b)\n",
    "    print(y)\n",
    "    return y>=0.5"
   ]
  },
  {
   "cell_type": "code",
   "execution_count": 10,
   "id": "ac673fe0-0060-4b33-bf3f-9e085e3bc9a0",
   "metadata": {
    "tags": []
   },
   "outputs": [],
   "source": [
    "def artificial(X,y,learning_rate=0.1, iter=100):\n",
    "    W,b =initia(X)\n",
    "    Loss=[]\n",
    "    for i in range(iter):\n",
    "        A=model(X,W,b)\n",
    "        Loss.append(log_loss(A,y))\n",
    "        dW,db=gradients(A,X,y)\n",
    "        W,b = update(dW, db,W,b, learning_rate)\n",
    "    y_pred=predict(X,W,b)\n",
    "    print (accuracy_score(y,y_pred))\n",
    "\n",
    "    plt.plot(Loss)\n",
    "    plt.show()\n",
    "    \n",
    "    return (W,b)"
   ]
  },
  {
   "cell_type": "code",
   "execution_count": 14,
   "id": "603f4003-d134-43c4-8685-4e3537ee9fe9",
   "metadata": {
    "tags": []
   },
   "outputs": [
    {
     "name": "stdout",
     "output_type": "stream",
     "text": [
      "[[0.9822282 ]\n",
      " [0.61243154]\n",
      " [0.00680477]\n",
      " [0.0954946 ]\n",
      " [0.96640852]\n",
      " [0.36068585]\n",
      " [0.09348276]\n",
      " [0.9717456 ]\n",
      " [0.05574389]\n",
      " [0.76366825]\n",
      " [0.04171187]\n",
      " [0.81254599]\n",
      " [0.04966987]\n",
      " [0.02003651]\n",
      " [0.68823686]\n",
      " [0.99055508]\n",
      " [0.9875722 ]\n",
      " [0.03873235]\n",
      " [0.55575175]\n",
      " [0.56178246]\n",
      " [0.07198303]\n",
      " [0.0474078 ]\n",
      " [0.37699886]\n",
      " [0.00703519]\n",
      " [0.939939  ]\n",
      " [0.04883273]\n",
      " [0.79728173]\n",
      " [0.02004103]\n",
      " [0.11023894]\n",
      " [0.7729401 ]\n",
      " [0.96325579]\n",
      " [0.06728762]\n",
      " [0.53331533]\n",
      " [0.96410694]\n",
      " [0.4282545 ]\n",
      " [0.35906754]\n",
      " [0.68872186]\n",
      " [0.59116107]\n",
      " [0.54941944]\n",
      " [0.32004985]\n",
      " [0.0504937 ]\n",
      " [0.20471712]\n",
      " [0.00136718]\n",
      " [0.20707273]\n",
      " [0.18695865]\n",
      " [0.82866405]\n",
      " [0.93689437]\n",
      " [0.91607327]\n",
      " [0.00497013]\n",
      " [0.01690936]\n",
      " [0.90103786]\n",
      " [0.42080345]\n",
      " [0.14652314]\n",
      " [0.07479729]\n",
      " [0.88761891]\n",
      " [0.06801814]\n",
      " [0.8026027 ]\n",
      " [0.75647927]\n",
      " [0.95061494]\n",
      " [0.9826722 ]\n",
      " [0.58431875]\n",
      " [0.2799243 ]\n",
      " [0.00717362]\n",
      " [0.92515397]\n",
      " [0.03147604]\n",
      " [0.39010062]\n",
      " [0.03439323]\n",
      " [0.74751467]\n",
      " [0.95066388]\n",
      " [0.35329718]\n",
      " [0.20715076]\n",
      " [0.85851957]\n",
      " [0.98036311]\n",
      " [0.18265847]\n",
      " [0.08799768]\n",
      " [0.04101699]\n",
      " [0.43519533]\n",
      " [0.88277465]\n",
      " [0.05189337]\n",
      " [0.05361147]\n",
      " [0.27372525]\n",
      " [0.12962619]\n",
      " [0.00569736]\n",
      " [0.19080937]\n",
      " [0.08964329]\n",
      " [0.01570544]\n",
      " [0.96684337]\n",
      " [0.16816771]\n",
      " [0.71254205]\n",
      " [0.94580841]\n",
      " [0.9116252 ]\n",
      " [0.97418675]\n",
      " [0.39554062]\n",
      " [0.82582113]\n",
      " [0.4783072 ]\n",
      " [0.00107562]\n",
      " [0.93270881]\n",
      " [0.96021403]\n",
      " [0.008671  ]\n",
      " [0.33707523]]\n",
      "0.86\n"
     ]
    },
    {
     "data": {
      "image/png": "[encoded data removed]",
      "text/plain": [
       "<Figure size 432x288 with 1 Axes>"
      ]
     },
     "metadata": {
      "needs_background": "light"
     },
     "output_type": "display_data"
    },
    {
     "data": {
      "text/plain": [
       "(array([[ 1.49880479],\n",
       "        [-0.79321198]]),\n",
       " array([-0.53831517]))"
      ]
     },
     "execution_count": 14,
     "metadata": {},
     "output_type": "execute_result"
    }
   ],
   "source": [
    "artificial(X,y)"
   ]
  },
  {
   "cell_type": "code",
   "execution_count": 15,
   "id": "51383269-76cf-43e3-b71e-a7683308bcec",
   "metadata": {
    "tags": []
   },
   "outputs": [
    {
     "data": {
      "text/plain": [
       "<matplotlib.collections.PathCollection at 0x1b97795cbe0>"
      ]
     },
     "execution_count": 15,
     "metadata": {},
     "output_type": "execute_result"
    },
    {
     "data": {
      "image/png": "[encoded data removed]",
      "text/plain": [
       "<Figure size 432x288 with 1 Axes>"
      ]
     },
     "metadata": {
      "needs_background": "light"
     },
     "output_type": "display_data"
    }
   ],
   "source": [
    "plant=np.array([2,1])\n",
    "plt.scatter(X[:,0],X[:,1],c=y,cmap='summer' )\n",
    "plt.scatter(plant[0],plant[1],c='r' )"
   ]
  },
  {
   "cell_type": "code",
   "execution_count": 13,
   "id": "70e677ce-b6f3-4f7f-9a35-444a550324e9",
   "metadata": {
    "tags": []
   },
   "outputs": [
    {
     "name": "stdout",
     "output_type": "stream",
     "text": [
      "[0.06645635]\n"
     ]
    },
    {
     "data": {
      "text/plain": [
       "array([False])"
      ]
     },
     "execution_count": 13,
     "metadata": {},
     "output_type": "execute_result"
    }
   ],
   "source": [
    "predict(plant,W,b)"
   ]
  },
  {
   "cell_type": "code",
   "execution_count": null,
   "id": "47b59d9c-69ae-4097-ad44-7c09ec7b00b6",
   "metadata": {},
   "outputs": [],
   "source": []
  }
 ],
 "metadata": {
  "kernelspec": {
   "display_name": "Python 3 (ipykernel)",
   "language": "python",
   "name": "python3"
  },
  "language_info": {
   "codemirror_mode": {
    "name": "ipython",
    "version": 3
   },
   "file_extension": ".py",
   "mimetype": "text/x-python",
   "name": "python",
   "nbconvert_exporter": "python",
   "pygments_lexer": "ipython3",
   "version": "3.9.12"
  }
 },
 "nbformat": 4,
 "nbformat_minor": 5
}
